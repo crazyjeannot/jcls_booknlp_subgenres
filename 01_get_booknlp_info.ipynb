{
 "cells": [
  {
   "cell_type": "code",
   "execution_count": 13,
   "id": "98cf4843-c404-464b-affc-fb6e67995dfb",
   "metadata": {},
   "outputs": [],
   "source": [
    "import pandas as pd\n",
    "import numpy as np\n",
    "from openai import OpenAI\n",
    "import joblib\n",
    "from tqdm.notebook import tqdm\n",
    "from glob import glob\n",
    "import random\n",
    "import json\n",
    "import os\n",
    "from os import path, listdir"
   ]
  },
  {
   "cell_type": "code",
   "execution_count": 64,
   "id": "48fee850-13c4-40a6-8890-af9986698aa0",
   "metadata": {},
   "outputs": [],
   "source": [
    "path_dir = '/home/crazyjeannot/BAMMAN_CHAPITRES/'\n",
    "path_entities = '/home/crazyjeannot/BAMMAN_CHAPITRES/*.entities'\n",
    "path_book = '/home/crazyjeannot/BAMMAN_CHAPITRES/*.book'\n",
    "path_output = '/home/crazyjeannot/Documents/doctorat/JCLS_paper/data/ALL/'"
   ]
  },
  {
   "cell_type": "code",
   "execution_count": 53,
   "id": "6cad4890-fa60-4419-9111-236528d7e555",
   "metadata": {},
   "outputs": [],
   "source": [
    "def get_characterization(booknlp_data, N=10):\n",
    "    list_main = []\n",
    "    for i in range(min(len(booknlp_data[\"characters\"]), N)):\n",
    "        list_main.extend([item['w'] for item in booknlp_data[\"characters\"][i]['agent']])\n",
    "        list_main.extend([item['w'] for item in booknlp_data[\"characters\"][i]['patient']])\n",
    "        list_main.extend([item['w'] for item in booknlp_data[\"characters\"][i]['mod']])\n",
    "    return list_main"
   ]
  },
  {
   "cell_type": "code",
   "execution_count": 62,
   "id": "dd33d6d2-22c2-43ec-a5e8-5266b0cbf13d",
   "metadata": {},
   "outputs": [],
   "source": [
    "def get_booknlp(path_entities, path_book, path_output, N=10):\n",
    "    list_str_res = []\n",
    "    categories_to_filter = ['GPE', 'LOC', 'VEH', 'TIME', 'FAC']\n",
    "\n",
    "    entities_files = sorted(glob(path_entities))\n",
    "    book_files = sorted(glob(path_book))\n",
    "    \n",
    "    for doc_entities, doc_book in tqdm(zip(entities_files, book_files), total=2944):\n",
    "        file_entities = path.splitext(path.basename(doc_entities))[0]\n",
    "        file_book = path.splitext(path.basename(doc_book))[0]\n",
    "        \n",
    "        if  file_entities == file_book:\n",
    "        \n",
    "            # GET ENTITIES / CHRONOTOPE\n",
    "            df_entities = pd.read_csv(doc_entities, sep='\\t', engine=\"python\", on_bad_lines='skip')#, encoding_errors='replace')#lineterminator='\\n',         \n",
    "            df_chronotope = df_entities[df_entities['cat'].isin(categories_to_filter)]\n",
    "            chronotope = list(df_chronotope.text)\n",
    "\n",
    "            # GET CHARACTERIZATION\n",
    "            with open(doc_book, \"r\") as booknlp_book:\n",
    "                book_data = json.load(booknlp_book)\n",
    "                characterization = get_characterization(book_data, N)\n",
    "\n",
    "        else: \n",
    "            print(doc_entities)\n",
    "            print(doc_book)\n",
    "            print(\"NOT THE SAME FILE\")\n",
    "            break\n",
    "            \n",
    "        characterization.extend(chronotope)\n",
    "        random.shuffle(chronotope)\n",
    "        booknlp_str = ' '.join(chronotope)\n",
    "        list_str_res.append(booknlp_str)\n",
    "        \n",
    "        # Écriture fichier booknlp\n",
    "        if not os.path.exists(path_output):\n",
    "            os.makedirs(path_output)\n",
    "        with open(path_output+file_book+'.txt', 'w') as file_to_write:\n",
    "            file_to_write.write(booknlp_str)\n",
    "\n",
    "    return list_str_res"
   ]
  },
  {
   "cell_type": "code",
   "execution_count": 63,
   "id": "18d2d98b-a856-4ac8-9a14-1fa5bee1980d",
   "metadata": {},
   "outputs": [
    {
     "data": {
      "application/vnd.jupyter.widget-view+json": {
       "model_id": "e3d795c94d6b4b6f8b39270d2c5b6576",
       "version_major": 2,
       "version_minor": 0
      },
      "text/plain": [
       "  0%|          | 0/2944 [00:00<?, ?it/s]"
      ]
     },
     "metadata": {},
     "output_type": "display_data"
    }
   ],
   "source": [
    "list_str_res = get_booknlp(path_entities, path_book, path_output_TIME)"
   ]
  },
  {
   "cell_type": "code",
   "execution_count": null,
   "id": "34c93141-d870-4b41-bbb2-9ff4ae6cf54c",
   "metadata": {},
   "outputs": [],
   "source": []
  },
  {
   "cell_type": "code",
   "execution_count": null,
   "id": "7d5c4f1c-814d-473b-8606-c783b1ac5b40",
   "metadata": {},
   "outputs": [],
   "source": []
  }
 ],
 "metadata": {
  "kernelspec": {
   "display_name": "Python 3 (ipykernel)",
   "language": "python",
   "name": "python3"
  },
  "language_info": {
   "codemirror_mode": {
    "name": "ipython",
    "version": 3
   },
   "file_extension": ".py",
   "mimetype": "text/x-python",
   "name": "python",
   "nbconvert_exporter": "python",
   "pygments_lexer": "ipython3",
   "version": "3.10.12"
  }
 },
 "nbformat": 4,
 "nbformat_minor": 5
}
